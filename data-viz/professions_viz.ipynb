{
 "cells": [
  {
   "cell_type": "code",
   "execution_count": 139,
   "id": "5df13877",
   "metadata": {},
   "outputs": [],
   "source": [
    "import altair as alt\n",
    "from vega_datasets import data\n",
    "import pandas as pd\n",
    "\n",
    "df = pd.read_csv('../processed-data/professions.csv')\n",
    "\n",
    "threshold = 10\n",
    "\n",
    "professions_with_low_representation = df[df['number_of_deputados'] < threshold]\n",
    "professions_with_high_representation = df[df['number_of_deputados'] >= threshold]\n",
    "\n",
    "\n",
    "professions_with_low_representation['profession_cat'] = 'Others'\n",
    "others = professions_with_low_representation.groupby(['legislatureNumber', 'profession_cat']).sum().reset_index()\n",
    "\n",
    "\n",
    "final_df = pd.concat([professions_with_high_representation, others]).groupby(['legislatureNumber', 'profession_cat']).sum().reset_index()"
   ]
  },
  {
   "cell_type": "code",
   "execution_count": 148,
   "id": "0b729993",
   "metadata": {},
   "outputs": [
    {
     "data": {
      "text/html": [
       "\n",
       "<div id=\"altair-viz-9e26c3089ec94314bfe994f777731dfc\"></div>\n",
       "<script type=\"text/javascript\">\n",
       "  (function(spec, embedOpt){\n",
       "    let outputDiv = document.currentScript.previousElementSibling;\n",
       "    if (outputDiv.id !== \"altair-viz-9e26c3089ec94314bfe994f777731dfc\") {\n",
       "      outputDiv = document.getElementById(\"altair-viz-9e26c3089ec94314bfe994f777731dfc\");\n",
       "    }\n",
       "    const paths = {\n",
       "      \"vega\": \"https://cdn.jsdelivr.net/npm//vega@5?noext\",\n",
       "      \"vega-lib\": \"https://cdn.jsdelivr.net/npm//vega-lib?noext\",\n",
       "      \"vega-lite\": \"https://cdn.jsdelivr.net/npm//vega-lite@4.8.1?noext\",\n",
       "      \"vega-embed\": \"https://cdn.jsdelivr.net/npm//vega-embed@6?noext\",\n",
       "    };\n",
       "\n",
       "    function loadScript(lib) {\n",
       "      return new Promise(function(resolve, reject) {\n",
       "        var s = document.createElement('script');\n",
       "        s.src = paths[lib];\n",
       "        s.async = true;\n",
       "        s.onload = () => resolve(paths[lib]);\n",
       "        s.onerror = () => reject(`Error loading script: ${paths[lib]}`);\n",
       "        document.getElementsByTagName(\"head\")[0].appendChild(s);\n",
       "      });\n",
       "    }\n",
       "\n",
       "    function showError(err) {\n",
       "      outputDiv.innerHTML = `<div class=\"error\" style=\"color:red;\">${err}</div>`;\n",
       "      throw err;\n",
       "    }\n",
       "\n",
       "    function displayChart(vegaEmbed) {\n",
       "      vegaEmbed(outputDiv, spec, embedOpt)\n",
       "        .catch(err => showError(`Javascript Error: ${err.message}<br>This usually means there's a typo in your chart specification. See the javascript console for the full traceback.`));\n",
       "    }\n",
       "\n",
       "    if(typeof define === \"function\" && define.amd) {\n",
       "      requirejs.config({paths});\n",
       "      require([\"vega-embed\"], displayChart, err => showError(`Error loading script: ${err.message}`));\n",
       "    } else if (typeof vegaEmbed === \"function\") {\n",
       "      displayChart(vegaEmbed);\n",
       "    } else {\n",
       "      loadScript(\"vega\")\n",
       "        .then(() => loadScript(\"vega-lite\"))\n",
       "        .then(() => loadScript(\"vega-embed\"))\n",
       "        .catch(showError)\n",
       "        .then(() => displayChart(vegaEmbed));\n",
       "    }\n",
       "  })({\"config\": {\"view\": {\"continuousWidth\": 400, \"continuousHeight\": 300}}, \"data\": {\"name\": \"data-dc161b42d953fc0c858ee7ca0dca42f3\"}, \"mark\": \"area\", \"encoding\": {\"color\": {\"type\": \"nominal\", \"field\": \"profession_cat\"}, \"x\": {\"type\": \"quantitative\", \"field\": \"legislatureNumber\", \"title\": \"Legislatura\"}, \"y\": {\"type\": \"quantitative\", \"axis\": {\"format\": \"%\"}, \"field\": \"number_of_deputados\", \"stack\": \"normalize\", \"title\": \"% deputados\"}}, \"$schema\": \"https://vega.github.io/schema/vega-lite/v4.8.1.json\", \"datasets\": {\"data-dc161b42d953fc0c858ee7ca0dca42f3\": [{\"legislatureNumber\": 2, \"profession_cat\": \"Academy\", \"number_of_deputados\": 12}, {\"legislatureNumber\": 2, \"profession_cat\": \"Engineering\", \"number_of_deputados\": 10}, {\"legislatureNumber\": 2, \"profession_cat\": \"Law\", \"number_of_deputados\": 26}, {\"legislatureNumber\": 2, \"profession_cat\": \"Others\", \"number_of_deputados\": 45}, {\"legislatureNumber\": 2, \"profession_cat\": \"Teaching\", \"number_of_deputados\": 10}, {\"legislatureNumber\": 2, \"profession_cat\": \"Unknown\", \"number_of_deputados\": 329}, {\"legislatureNumber\": 3, \"profession_cat\": \"Academy\", \"number_of_deputados\": 13}, {\"legislatureNumber\": 3, \"profession_cat\": \"Engineering\", \"number_of_deputados\": 14}, {\"legislatureNumber\": 3, \"profession_cat\": \"Law\", \"number_of_deputados\": 37}, {\"legislatureNumber\": 3, \"profession_cat\": \"Others\", \"number_of_deputados\": 66}, {\"legislatureNumber\": 3, \"profession_cat\": \"Teaching\", \"number_of_deputados\": 23}, {\"legislatureNumber\": 3, \"profession_cat\": \"Unknown\", \"number_of_deputados\": 11}, {\"legislatureNumber\": 4, \"profession_cat\": \"Academy\", \"number_of_deputados\": 16}, {\"legislatureNumber\": 4, \"profession_cat\": \"Engineering\", \"number_of_deputados\": 14}, {\"legislatureNumber\": 4, \"profession_cat\": \"Law\", \"number_of_deputados\": 39}, {\"legislatureNumber\": 4, \"profession_cat\": \"Management\", \"number_of_deputados\": 13}, {\"legislatureNumber\": 4, \"profession_cat\": \"Others\", \"number_of_deputados\": 59}, {\"legislatureNumber\": 4, \"profession_cat\": \"Teaching\", \"number_of_deputados\": 19}, {\"legislatureNumber\": 4, \"profession_cat\": \"Unknown\", \"number_of_deputados\": 243}, {\"legislatureNumber\": 5, \"profession_cat\": \"Academy\", \"number_of_deputados\": 14}, {\"legislatureNumber\": 5, \"profession_cat\": \"Economy\", \"number_of_deputados\": 18}, {\"legislatureNumber\": 5, \"profession_cat\": \"Engineering\", \"number_of_deputados\": 19}, {\"legislatureNumber\": 5, \"profession_cat\": \"Law\", \"number_of_deputados\": 55}, {\"legislatureNumber\": 5, \"profession_cat\": \"Management\", \"number_of_deputados\": 15}, {\"legislatureNumber\": 5, \"profession_cat\": \"Others\", \"number_of_deputados\": 72}, {\"legislatureNumber\": 5, \"profession_cat\": \"Teaching\", \"number_of_deputados\": 33}, {\"legislatureNumber\": 5, \"profession_cat\": \"Unknown\", \"number_of_deputados\": 174}, {\"legislatureNumber\": 6, \"profession_cat\": \"Academy\", \"number_of_deputados\": 25}, {\"legislatureNumber\": 6, \"profession_cat\": \"Banking\", \"number_of_deputados\": 12}, {\"legislatureNumber\": 6, \"profession_cat\": \"Economy\", \"number_of_deputados\": 28}, {\"legislatureNumber\": 6, \"profession_cat\": \"Engineering\", \"number_of_deputados\": 30}, {\"legislatureNumber\": 6, \"profession_cat\": \"Law\", \"number_of_deputados\": 76}, {\"legislatureNumber\": 6, \"profession_cat\": \"Management\", \"number_of_deputados\": 23}, {\"legislatureNumber\": 6, \"profession_cat\": \"Medicine\", \"number_of_deputados\": 12}, {\"legislatureNumber\": 6, \"profession_cat\": \"Others\", \"number_of_deputados\": 73}, {\"legislatureNumber\": 6, \"profession_cat\": \"Public Servant\", \"number_of_deputados\": 18}, {\"legislatureNumber\": 6, \"profession_cat\": \"Teaching\", \"number_of_deputados\": 52}, {\"legislatureNumber\": 7, \"profession_cat\": \"Academy\", \"number_of_deputados\": 34}, {\"legislatureNumber\": 7, \"profession_cat\": \"Banking\", \"number_of_deputados\": 15}, {\"legislatureNumber\": 7, \"profession_cat\": \"Economy\", \"number_of_deputados\": 26}, {\"legislatureNumber\": 7, \"profession_cat\": \"Engineering\", \"number_of_deputados\": 27}, {\"legislatureNumber\": 7, \"profession_cat\": \"Law\", \"number_of_deputados\": 83}, {\"legislatureNumber\": 7, \"profession_cat\": \"Management\", \"number_of_deputados\": 26}, {\"legislatureNumber\": 7, \"profession_cat\": \"Medicine\", \"number_of_deputados\": 19}, {\"legislatureNumber\": 7, \"profession_cat\": \"Others\", \"number_of_deputados\": 63}, {\"legislatureNumber\": 7, \"profession_cat\": \"Public Servant\", \"number_of_deputados\": 17}, {\"legislatureNumber\": 7, \"profession_cat\": \"Retired\", \"number_of_deputados\": 11}, {\"legislatureNumber\": 7, \"profession_cat\": \"Teaching\", \"number_of_deputados\": 41}, {\"legislatureNumber\": 8, \"profession_cat\": \"Academy\", \"number_of_deputados\": 35}, {\"legislatureNumber\": 8, \"profession_cat\": \"Business\", \"number_of_deputados\": 10}, {\"legislatureNumber\": 8, \"profession_cat\": \"Economy\", \"number_of_deputados\": 26}, {\"legislatureNumber\": 8, \"profession_cat\": \"Engineering\", \"number_of_deputados\": 16}, {\"legislatureNumber\": 8, \"profession_cat\": \"Law\", \"number_of_deputados\": 78}, {\"legislatureNumber\": 8, \"profession_cat\": \"Management\", \"number_of_deputados\": 20}, {\"legislatureNumber\": 8, \"profession_cat\": \"Medicine\", \"number_of_deputados\": 10}, {\"legislatureNumber\": 8, \"profession_cat\": \"Others\", \"number_of_deputados\": 72}, {\"legislatureNumber\": 8, \"profession_cat\": \"Public Servant\", \"number_of_deputados\": 17}, {\"legislatureNumber\": 8, \"profession_cat\": \"Teaching\", \"number_of_deputados\": 45}, {\"legislatureNumber\": 9, \"profession_cat\": \"Academy\", \"number_of_deputados\": 46}, {\"legislatureNumber\": 9, \"profession_cat\": \"Economy\", \"number_of_deputados\": 22}, {\"legislatureNumber\": 9, \"profession_cat\": \"Engineering\", \"number_of_deputados\": 14}, {\"legislatureNumber\": 9, \"profession_cat\": \"Law\", \"number_of_deputados\": 90}, {\"legislatureNumber\": 9, \"profession_cat\": \"Management\", \"number_of_deputados\": 18}, {\"legislatureNumber\": 9, \"profession_cat\": \"Medicine\", \"number_of_deputados\": 10}, {\"legislatureNumber\": 9, \"profession_cat\": \"Others\", \"number_of_deputados\": 76}, {\"legislatureNumber\": 9, \"profession_cat\": \"Public Servant\", \"number_of_deputados\": 15}, {\"legislatureNumber\": 9, \"profession_cat\": \"Teaching\", \"number_of_deputados\": 50}, {\"legislatureNumber\": 9, \"profession_cat\": \"Unknown\", \"number_of_deputados\": 11}, {\"legislatureNumber\": 10, \"profession_cat\": \"Academy\", \"number_of_deputados\": 32}, {\"legislatureNumber\": 10, \"profession_cat\": \"Consulting\", \"number_of_deputados\": 10}, {\"legislatureNumber\": 10, \"profession_cat\": \"Economy\", \"number_of_deputados\": 20}, {\"legislatureNumber\": 10, \"profession_cat\": \"Law\", \"number_of_deputados\": 66}, {\"legislatureNumber\": 10, \"profession_cat\": \"Management\", \"number_of_deputados\": 15}, {\"legislatureNumber\": 10, \"profession_cat\": \"Others\", \"number_of_deputados\": 87}, {\"legislatureNumber\": 10, \"profession_cat\": \"Teaching\", \"number_of_deputados\": 30}, {\"legislatureNumber\": 11, \"profession_cat\": \"Academy\", \"number_of_deputados\": 35}, {\"legislatureNumber\": 11, \"profession_cat\": \"Consulting\", \"number_of_deputados\": 15}, {\"legislatureNumber\": 11, \"profession_cat\": \"Economy\", \"number_of_deputados\": 23}, {\"legislatureNumber\": 11, \"profession_cat\": \"Engineering\", \"number_of_deputados\": 12}, {\"legislatureNumber\": 11, \"profession_cat\": \"Law\", \"number_of_deputados\": 81}, {\"legislatureNumber\": 11, \"profession_cat\": \"Management\", \"number_of_deputados\": 19}, {\"legislatureNumber\": 11, \"profession_cat\": \"Others\", \"number_of_deputados\": 91}, {\"legislatureNumber\": 11, \"profession_cat\": \"Teaching\", \"number_of_deputados\": 37}, {\"legislatureNumber\": 12, \"profession_cat\": \"Academy\", \"number_of_deputados\": 44}, {\"legislatureNumber\": 12, \"profession_cat\": \"Consulting\", \"number_of_deputados\": 12}, {\"legislatureNumber\": 12, \"profession_cat\": \"Economy\", \"number_of_deputados\": 24}, {\"legislatureNumber\": 12, \"profession_cat\": \"Engineering\", \"number_of_deputados\": 13}, {\"legislatureNumber\": 12, \"profession_cat\": \"Law\", \"number_of_deputados\": 73}, {\"legislatureNumber\": 12, \"profession_cat\": \"Management\", \"number_of_deputados\": 21}, {\"legislatureNumber\": 12, \"profession_cat\": \"Others\", \"number_of_deputados\": 87}, {\"legislatureNumber\": 12, \"profession_cat\": \"Public Servant\", \"number_of_deputados\": 11}, {\"legislatureNumber\": 12, \"profession_cat\": \"Teaching\", \"number_of_deputados\": 26}]}}, {\"mode\": \"vega-lite\"});\n",
       "</script>"
      ],
      "text/plain": [
       "alt.Chart(...)"
      ]
     },
     "execution_count": 148,
     "metadata": {},
     "output_type": "execute_result"
    }
   ],
   "source": [
    "alt.Chart(final_df).mark_area().encode(\n",
    "    x=alt.X(\"legislatureNumber:Q\", title=\"Legislatura\"),\n",
    "    y=alt.Y(\"number_of_deputados:Q\", stack=\"normalize\", title='% deputados', axis=alt.Axis(format='%')),\n",
    "    color=\"profession_cat:N\"\n",
    ")"
   ]
  },
  {
   "cell_type": "code",
   "execution_count": null,
   "id": "ee3a0f0e",
   "metadata": {},
   "outputs": [],
   "source": []
  }
 ],
 "metadata": {
  "kernelspec": {
   "display_name": "Python 3 (ipykernel)",
   "language": "python",
   "name": "python3"
  },
  "language_info": {
   "codemirror_mode": {
    "name": "ipython",
    "version": 3
   },
   "file_extension": ".py",
   "mimetype": "text/x-python",
   "name": "python",
   "nbconvert_exporter": "python",
   "pygments_lexer": "ipython3",
   "version": "3.8.10"
  }
 },
 "nbformat": 4,
 "nbformat_minor": 5
}
